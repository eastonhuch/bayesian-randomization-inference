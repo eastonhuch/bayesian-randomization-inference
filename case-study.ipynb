{
 "cells": [
  {
   "cell_type": "markdown",
   "id": "29e2b41e-c843-43fe-b1c3-e9e602a8b53d",
   "metadata": {},
   "source": [
    "# Imports"
   ]
  },
  {
   "cell_type": "code",
   "execution_count": 1,
   "id": "50811b7c-2ffa-4887-ae38-c6eeb287ecdc",
   "metadata": {},
   "outputs": [],
   "source": [
    "import pandas as pd\n",
    "import numpy as np\n",
    "from scipy.stats import norm\n",
    "import statsmodels.api as sm\n",
    "from patsy.highlevel import dmatrix\n",
    "import matplotlib.pyplot as plt\n",
    "from matplotlib.lines import Line2D\n",
    "import seaborn as sns\n",
    "from tqdm import trange\n",
    "import jax.numpy as jnp\n",
    "from jax import random\n",
    "import numpyro\n",
    "import numpyro.distributions as dist\n",
    "from numpyro.infer import MCMC, NUTS, HMCGibbs\n",
    "from numpyro.infer.initialization import init_to_value\n",
    "from shared.config_plt import config_plt, get_fig_ax, save_my_fig, colors\n",
    "from shared.utils import float2str_format, print_se_parentheses\n",
    "config_plt()"
   ]
  },
  {
   "cell_type": "markdown",
   "id": "5c17b8e9-1044-419e-ac57-7b20dde55a30",
   "metadata": {},
   "source": [
    "# Preprocessing"
   ]
  },
  {
   "cell_type": "code",
   "execution_count": 2,
   "id": "b650d5e6-bf8a-4806-a811-4ffafdf96b64",
   "metadata": {
    "tags": []
   },
   "outputs": [
    {
     "data": {
      "text/html": [
       "<div>\n",
       "<style scoped>\n",
       "    .dataframe tbody tr th:only-of-type {\n",
       "        vertical-align: middle;\n",
       "    }\n",
       "\n",
       "    .dataframe tbody tr th {\n",
       "        vertical-align: top;\n",
       "    }\n",
       "\n",
       "    .dataframe thead th {\n",
       "        text-align: right;\n",
       "    }\n",
       "</style>\n",
       "<table border=\"1\" class=\"dataframe\">\n",
       "  <thead>\n",
       "    <tr style=\"text-align: right;\">\n",
       "      <th></th>\n",
       "      <th>participant</th>\n",
       "      <th>Highest educational level binary</th>\n",
       "      <th>Level of education composite</th>\n",
       "      <th>availability</th>\n",
       "      <th>labelling</th>\n",
       "      <th>Total meal energy</th>\n",
       "      <th>Fast food frequency</th>\n",
       "      <th>Healthiness motivation score</th>\n",
       "      <th>Weight control motivation score</th>\n",
       "      <th>Interference stroop effect</th>\n",
       "      <th>Proportion of correct responses in incongruent trials</th>\n",
       "      <th>Two-error maximum lenght</th>\n",
       "      <th>Maximun lenght</th>\n",
       "      <th>Self-control score</th>\n",
       "      <th>study</th>\n",
       "    </tr>\n",
       "  </thead>\n",
       "  <tbody>\n",
       "    <tr>\n",
       "      <th>0</th>\n",
       "      <td>1</td>\n",
       "      <td>High</td>\n",
       "      <td>0.859923</td>\n",
       "      <td>1</td>\n",
       "      <td>1</td>\n",
       "      <td>707</td>\n",
       "      <td>Never or not in the last year</td>\n",
       "      <td>3</td>\n",
       "      <td>3</td>\n",
       "      <td>337.0</td>\n",
       "      <td>0.857143</td>\n",
       "      <td>4</td>\n",
       "      <td>4</td>\n",
       "      <td>52</td>\n",
       "      <td>1</td>\n",
       "    </tr>\n",
       "    <tr>\n",
       "      <th>1</th>\n",
       "      <td>2</td>\n",
       "      <td>Low</td>\n",
       "      <td>-1.093325</td>\n",
       "      <td>1</td>\n",
       "      <td>0</td>\n",
       "      <td>726</td>\n",
       "      <td>1-3 times per month</td>\n",
       "      <td>6</td>\n",
       "      <td>5</td>\n",
       "      <td>474.0</td>\n",
       "      <td>0.857143</td>\n",
       "      <td>6</td>\n",
       "      <td>8</td>\n",
       "      <td>41</td>\n",
       "      <td>1</td>\n",
       "    </tr>\n",
       "    <tr>\n",
       "      <th>2</th>\n",
       "      <td>3</td>\n",
       "      <td>High</td>\n",
       "      <td>-0.211802</td>\n",
       "      <td>1</td>\n",
       "      <td>0</td>\n",
       "      <td>847</td>\n",
       "      <td>1-3 times per month</td>\n",
       "      <td>5</td>\n",
       "      <td>5</td>\n",
       "      <td>460.5</td>\n",
       "      <td>0.821429</td>\n",
       "      <td>8</td>\n",
       "      <td>8</td>\n",
       "      <td>31</td>\n",
       "      <td>1</td>\n",
       "    </tr>\n",
       "    <tr>\n",
       "      <th>3</th>\n",
       "      <td>4</td>\n",
       "      <td>Low</td>\n",
       "      <td>-0.462362</td>\n",
       "      <td>1</td>\n",
       "      <td>0</td>\n",
       "      <td>705</td>\n",
       "      <td>Less than once per month</td>\n",
       "      <td>5</td>\n",
       "      <td>3</td>\n",
       "      <td>329.0</td>\n",
       "      <td>0.964286</td>\n",
       "      <td>10</td>\n",
       "      <td>10</td>\n",
       "      <td>44</td>\n",
       "      <td>1</td>\n",
       "    </tr>\n",
       "    <tr>\n",
       "      <th>4</th>\n",
       "      <td>5</td>\n",
       "      <td>High</td>\n",
       "      <td>0.799564</td>\n",
       "      <td>1</td>\n",
       "      <td>0</td>\n",
       "      <td>1137</td>\n",
       "      <td>1-2 times per week</td>\n",
       "      <td>6</td>\n",
       "      <td>4</td>\n",
       "      <td>401.0</td>\n",
       "      <td>0.821429</td>\n",
       "      <td>6</td>\n",
       "      <td>7</td>\n",
       "      <td>39</td>\n",
       "      <td>1</td>\n",
       "    </tr>\n",
       "  </tbody>\n",
       "</table>\n",
       "</div>"
      ],
      "text/plain": [
       "   participant Highest educational level binary  Level of education composite  \\\n",
       "0            1                             High                      0.859923   \n",
       "1            2                              Low                     -1.093325   \n",
       "2            3                             High                     -0.211802   \n",
       "3            4                              Low                     -0.462362   \n",
       "4            5                             High                      0.799564   \n",
       "\n",
       "   availability  labelling  Total meal energy            Fast food frequency  \\\n",
       "0             1          1                707  Never or not in the last year   \n",
       "1             1          0                726            1-3 times per month   \n",
       "2             1          0                847            1-3 times per month   \n",
       "3             1          0                705       Less than once per month   \n",
       "4             1          0               1137             1-2 times per week   \n",
       "\n",
       "   Healthiness motivation score  Weight control motivation score  \\\n",
       "0                             3                                3   \n",
       "1                             6                                5   \n",
       "2                             5                                5   \n",
       "3                             5                                3   \n",
       "4                             6                                4   \n",
       "\n",
       "   Interference stroop effect  \\\n",
       "0                       337.0   \n",
       "1                       474.0   \n",
       "2                       460.5   \n",
       "3                       329.0   \n",
       "4                       401.0   \n",
       "\n",
       "   Proportion of correct responses in incongruent trials  \\\n",
       "0                                           0.857143       \n",
       "1                                           0.857143       \n",
       "2                                           0.821429       \n",
       "3                                           0.964286       \n",
       "4                                           0.821429       \n",
       "\n",
       "   Two-error maximum lenght  Maximun lenght  Self-control score  study  \n",
       "0                         4               4                  52      1  \n",
       "1                         6               8                  41      1  \n",
       "2                         8               8                  31      1  \n",
       "3                        10              10                  44      1  \n",
       "4                         6               7                  39      1  "
      ]
     },
     "execution_count": 2,
     "metadata": {},
     "output_type": "execute_result"
    }
   ],
   "source": [
    "# The data can be downloaded from https://osf.io/ajcr6/\n",
    "df = pd.read_excel(\"./data_set_fast_food_study_OSF.xlsx\")\n",
    "df.head()"
   ]
  },
  {
   "cell_type": "code",
   "execution_count": 3,
   "id": "3867e0c3-a122-4203-a6a3-32aa5972908c",
   "metadata": {},
   "outputs": [],
   "source": [
    "# Numeric codes for categorical variables\n",
    "df[\"Fast food frequency (numeric)\"] = df[\"Fast food frequency\"].replace({\n",
    "    \"Never or not in the last year\": \"0\",\n",
    "    \"Less than once per month\": \"1\",\n",
    "    \"1-3 times per month\": \"2\",\n",
    "    \"1-2 times per week\": \"3\",\n",
    "    \"3 times per week or more\": \"4\"\n",
    "}).astype(float)\n",
    "\n",
    "df[\"Fast food weekly\"] = df[\"Fast food frequency\"].replace({\n",
    "    \"Never or not in the last year\": \"False\",\n",
    "    \"Less than once per month\": \"False\",\n",
    "    \"1-3 times per month\": \"False\",\n",
    "    \"1-2 times per week\": \"True\",\n",
    "    \"3 times per week or more\": \"True\"\n",
    "}) == \"True\"\n",
    "\n",
    "df[\"Highest educational level binary (numeric)\"] = df[\"Highest educational level binary\"].replace({\n",
    "    \"High\": \"True\",\n",
    "    \"Low\": \"False\",\n",
    "}) == \"True\""
   ]
  },
  {
   "cell_type": "code",
   "execution_count": 4,
   "id": "9a69316d-79ad-4470-bca0-c103f7f599ea",
   "metadata": {},
   "outputs": [],
   "source": [
    "# Variables for column names\n",
    "treatment_column = \"availability\"\n",
    "outcome_column = \"Total meal energy\"\n",
    "covariate_columns = [\n",
    "    \"Highest educational level binary (numeric)\",\n",
    "    \"Level of education composite\",\n",
    "    \"Fast food frequency (numeric)\",\n",
    "    \"Fast food weekly\",\n",
    "    \"Healthiness motivation score\",\n",
    "    \"Weight control motivation score\",\n",
    "    \"Interference stroop effect\",\n",
    "    \"Two-error maximum lenght\",\n",
    "    \"Maximun lenght\",  # Original (mis)spelling in the data\n",
    "    \"Self-control score\"]\n",
    "num_covariates = len(covariate_columns)"
   ]
  },
  {
   "cell_type": "code",
   "execution_count": 5,
   "id": "45000212-0079-48cc-80dc-b3331ed84f56",
   "metadata": {},
   "outputs": [],
   "source": [
    "# Store data as variables for easy use\n",
    "y = df[outcome_column]\n",
    "n = y.size\n",
    "a = df[treatment_column]\n",
    "a_logical = a.astype(bool)\n",
    "idx1 = np.arange(n)[a_logical]\n",
    "idx0 = np.arange(n)[~a_logical]\n",
    "n0 = idx0.size\n",
    "n1 = idx1.size\n",
    "p = 0.5\n",
    "alpha = 0.05\n",
    "z_star = float(norm.ppf(1.-alpha/2.))"
   ]
  },
  {
   "cell_type": "markdown",
   "id": "5f812a28-3c00-4548-9b96-816587a74feb",
   "metadata": {},
   "source": [
    "# ATE Estimate"
   ]
  },
  {
   "cell_type": "code",
   "execution_count": 6,
   "id": "a6dfacde-6e78-4943-8a14-43acd78beb12",
   "metadata": {},
   "outputs": [
    {
     "name": "stdout",
     "output_type": "stream",
     "text": [
      "-71.088 (-92.269 -49.907)\n"
     ]
    }
   ],
   "source": [
    "# 2-sample z-test\n",
    "y1 = y[idx1]\n",
    "y0 = y[idx0]\n",
    "dim_estimate = y1.mean() - y0.mean()\n",
    "se = np.sqrt(y1.var(ddof=0)/y1.size + y0.var(ddof=0)/y0.size)\n",
    "ci = dim_estimate + z_star * np.array([-1, 1]) * se\n",
    "dim_estimate_ci = float2str_format(dim_estimate) + \" (\" + \" \".join(float2str_format(ci)) + \")\"\n",
    "print(dim_estimate_ci)"
   ]
  },
  {
   "cell_type": "code",
   "execution_count": 7,
   "id": "bedd7020-1352-4a8c-a970-ab5df80dd035",
   "metadata": {},
   "outputs": [
    {
     "data": {
      "text/plain": [
       "Estimate    -71.088\n",
       "Lower       -92.269\n",
       "Upper       -49.907\n",
       "Name: availability, dtype: object"
      ]
     },
     "execution_count": 7,
     "metadata": {},
     "output_type": "execute_result"
    }
   ],
   "source": [
    "# The 2-sample z-test exactly matches a linear model estimate with robust standard errors\n",
    "X = np.ones((n, 2))\n",
    "X[:, 1] = a\n",
    "X_df = pd.DataFrame(data=X, columns=[\"Intercept\", treatment_column])\n",
    "mod_ate = sm.OLS(y, X_df).fit(cov_type=\"HC0\")\n",
    "mod_results = mod_ate.conf_int()\n",
    "mod_results.columns = [\"Lower\", \"Upper\"]\n",
    "mod_results.insert(0, \"Estimate\", mod_ate.params)\n",
    "mod_results = mod_results.apply(float2str_format)\n",
    "mod_results.loc[treatment_column]"
   ]
  },
  {
   "cell_type": "markdown",
   "id": "36182c8e-9d19-4c82-8806-032dec5c010d",
   "metadata": {},
   "source": [
    "# Fisherian Randomization Test (FRT)"
   ]
  },
  {
   "cell_type": "code",
   "execution_count": 8,
   "id": "b1c87704-f92b-4699-92b9-e9cf96d18b8c",
   "metadata": {},
   "outputs": [],
   "source": [
    "# H0: No effect for any unit\n",
    "a_samples = np.random.random((100000, n)) > 0.5\n",
    "dim = np.sum(a*y) / np.sum(a) - np.sum((1-a)*y) / np.sum(1-a)\n",
    "dim_samples = (\n",
    "    np.sum(a_samples*y.values, axis=1) / np.sum(a_samples, axis=1) -\n",
    "    np.sum((1-a_samples)*y.values, axis=1) / np.sum(1-a_samples, axis=1)\n",
    ")"
   ]
  },
  {
   "cell_type": "code",
   "execution_count": 9,
   "id": "f70bb632-debb-4bc4-85ee-42104d0d2682",
   "metadata": {},
   "outputs": [
    {
     "name": "stdout",
     "output_type": "stream",
     "text": [
      "./figures/case-study/fast-food-frt\n"
     ]
    },
    {
     "name": "stderr",
     "output_type": "stream",
     "text": [
      "The PostScript backend does not support transparency; partially transparent artists will be rendered opaque.\n"
     ]
    },
    {
     "data": {
      "image/png": "[encoded data removed]",
      "text/plain": [
       "<Figure size 340x290 with 1 Axes>"
      ]
     },
     "metadata": {},
     "output_type": "display_data"
    }
   ],
   "source": [
    "figsize = (3.4, 2.9)\n",
    "left_adjust = 0.23\n",
    "bottom_adjust = 0.18\n",
    "right_adjust = 0.97\n",
    "top_adjust = 0.97\n",
    "fig, ax = get_fig_ax(figsize=figsize)\n",
    "sns.kdeplot(x=dim_samples, ax=ax, bw_adjust=2., color=colors[0], label=\"Samples\")\n",
    "ax.axvline(dim, label=\"Observed\", color=colors[1])\n",
    "ax.legend()\n",
    "ax.set_xlabel(\"$s$\")\n",
    "ax.set_ylabel(\"Density\")\n",
    "ax.set_ylim(0, 0.06)\n",
    "fig.tight_layout()\n",
    "plt.subplots_adjust(left_adjust, bottom_adjust, right_adjust, top_adjust)\n",
    "save_my_fig(fig, \"case-study/fast-food-frt\")"
   ]
  },
  {
   "cell_type": "code",
   "execution_count": 10,
   "id": "cc41b9ca-60d8-4ec3-ba71-ba120426d4b8",
   "metadata": {},
   "outputs": [
    {
     "name": "stdout",
     "output_type": "stream",
     "text": [
      "The p-value from the FRT is 0.0\n"
     ]
    }
   ],
   "source": [
    "frt_p_value = np.mean(np.abs(dim_samples) > np.abs(dim))\n",
    "print(f\"The p-value from the FRT is {frt_p_value}\")"
   ]
  },
  {
   "cell_type": "markdown",
   "id": "2f7480bd-77cd-4ecc-b7a4-240ba5176dab",
   "metadata": {},
   "source": [
    "# BRI Analysis"
   ]
  },
  {
   "cell_type": "markdown",
   "id": "12469784-e398-49ee-b911-2bf1711c2daa",
   "metadata": {},
   "source": [
    "## Constant treatment-effect model"
   ]
  },
  {
   "cell_type": "code",
   "execution_count": 11,
   "id": "ea66f8cb-93ae-4d33-befb-2d034af84666",
   "metadata": {},
   "outputs": [],
   "source": [
    "# Helper functions for computing moments\n",
    "def get_moments(y, a_logical):\n",
    "    idx1 = np.arange(n)[a_logical]\n",
    "    idx0 = np.arange(n)[~a_logical]\n",
    "    y0 = y[idx0]\n",
    "    y1 = y[idx1]\n",
    "    m0 = jnp.mean(y0)\n",
    "    m1 = jnp.mean(y1)\n",
    "    v0 = jnp.var(y0, ddof=1)\n",
    "    v1 = jnp.var(y1, ddof=1)\n",
    "    return m0, m1, v0, v1\n",
    "\n",
    "def get_moment_samples(y0, y1, a_samples):\n",
    "    n0_samples = jnp.sum(1-a_samples, axis=1)\n",
    "    n1_samples = jnp.sum(a_samples, axis=1)\n",
    "    sum0_samples = jnp.sum(y0*(1-a_samples), axis=1)\n",
    "    sum1_samples = jnp.sum(y1*a_samples, axis=1)\n",
    "    m0 = sum0_samples / n0_samples\n",
    "    m1 = sum1_samples / n1_samples\n",
    "    sumsq0_samples = jnp.sum((y0**2)*(1-a_samples), axis=1)\n",
    "    sumsq1_samples = jnp.sum((y1**2)*a_samples, axis=1)\n",
    "    meansq0 = sumsq0_samples / n0_samples\n",
    "    meansq1 = sumsq1_samples / n1_samples\n",
    "    v0 = (meansq0 - m0**2) * n0_samples / (n0_samples - 1.)\n",
    "    v1 = (meansq1 - m1**2) * n1_samples / (n1_samples - 1.)\n",
    "    return m0, m1, v0, v1"
   ]
  },
  {
   "cell_type": "code",
   "execution_count": 12,
   "id": "b0c242a2-ad58-400b-b088-695079fe04cc",
   "metadata": {},
   "outputs": [],
   "source": [
    "m0, m1, v0, v1 = get_moments(y.values, a_logical)\n",
    "s_observed = m1 - m0\n",
    "var_ratio = jnp.maximum(v1, v0) / jnp.minimum(v1, v0)"
   ]
  },
  {
   "cell_type": "code",
   "execution_count": 13,
   "id": "5c849510-6a43-4af4-8fbb-4cb4476cc5ea",
   "metadata": {},
   "outputs": [],
   "source": [
    "# NumPyro model function\n",
    "def constant_effect_model(num_a_samples=None):\n",
    "    # Prior\n",
    "    theta = numpyro.sample(\"theta\", dist.Normal(0., 100.))\n",
    "    \n",
    "    # Observed statistic\n",
    "    y0_imputed = y.values - a.values * theta\n",
    "    y1_imputed = y0_imputed + theta\n",
    "    \n",
    "    # Samples\n",
    "    if num_a_samples is None:\n",
    "        likelihood_mean = theta\n",
    "        ybar = y.values.mean()\n",
    "        likelihood_var = ((2*y.values + (1. - 2.*a.values)*theta - 2*ybar + (n1-n0)/n*theta)**2).mean()/n\n",
    "        likelihood_std = jnp.sqrt(likelihood_var)\n",
    "    else:\n",
    "        # NOTE: These samples are not redrawn within the MCMC algorithm\n",
    "        a_samples = dist.Bernoulli(0.5).sample(numpyro.prng_key(), (num_a_samples, n))\n",
    "        m0_s, m1_s, v0_s, v1_s = get_moment_samples(y0_imputed, y1_imputed, a_samples)\n",
    "        s_samples = m1_s - m0_s\n",
    "        var_ratio_samples = jnp.maximum(v1_s, v0_s) / jnp.minimum(v1_s, v0_s)\n",
    "        var_ratio_pval = jnp.mean(var_ratio_samples > var_ratio)\n",
    "        numpyro.deterministic(\"var_ratio_samples\", var_ratio_samples)\n",
    "        numpyro.deterministic(\"var_ratio_pval\", var_ratio_pval)\n",
    "        likelihood_mean = s_samples.mean()\n",
    "        likelihood_std = s_samples.std(ddof=1)\n",
    "        \n",
    "    parametric_log_estimate = -0.5 * ((s_observed - likelihood_mean)/likelihood_std)**2 - jnp.log(likelihood_std)\n",
    "    numpyro.factor(\"s_density\", parametric_log_estimate)\n",
    "\n",
    "rng_key = random.PRNGKey(0)\n",
    "constant_effect_kernel = NUTS(constant_effect_model)"
   ]
  },
  {
   "cell_type": "code",
   "execution_count": 14,
   "id": "33834417-ad56-4dd3-a9d4-21d6c8463077",
   "metadata": {},
   "outputs": [
    {
     "name": "stderr",
     "output_type": "stream",
     "text": [
      "sample: 100%|█| 40000/40000 [00:03<00:00, 10948.15it/s, 1 steps of size 1.11e+00"
     ]
    },
    {
     "name": "stdout",
     "output_type": "stream",
     "text": [
      "\n",
      "                mean       std    median      2.5%     97.5%     n_eff     r_hat\n",
      "     theta    -70.36     10.62    -70.33    -90.71    -48.99   7461.47      1.00\n",
      "\n",
      "Number of divergences: 0\n"
     ]
    },
    {
     "name": "stderr",
     "output_type": "stream",
     "text": [
      "\n"
     ]
    }
   ],
   "source": [
    "# Asymptotic variance: fast\n",
    "constant_effect_asymptotic_mcmc = MCMC(constant_effect_kernel, num_warmup=20000, num_samples=20000)\n",
    "constant_effect_asymptotic_mcmc.run(rng_key, num_a_samples=None)\n",
    "constant_effect_asymptotic_mcmc.print_summary(prob=0.95)"
   ]
  },
  {
   "cell_type": "code",
   "execution_count": 15,
   "id": "b94449af-6242-4f56-a14d-935513e6f4f5",
   "metadata": {},
   "outputs": [
    {
     "name": "stdout",
     "output_type": "stream",
     "text": [
      "./figures/case-study/constant-posterior\n"
     ]
    },
    {
     "name": "stderr",
     "output_type": "stream",
     "text": [
      "The PostScript backend does not support transparency; partially transparent artists will be rendered opaque.\n"
     ]
    },
    {
     "data": {
      "image/png": "[encoded data removed]",
      "text/plain": [
       "<Figure size 340x290 with 1 Axes>"
      ]
     },
     "metadata": {},
     "output_type": "display_data"
    }
   ],
   "source": [
    "fig, ax = get_fig_ax(figsize=figsize)\n",
    "theta_samples = constant_effect_asymptotic_mcmc.get_samples()[\"theta\"]\n",
    "sns.kdeplot(x=theta_samples, ax=ax, bw_adjust=1., color=colors[0], label=\"Posterior Dist.\")\n",
    "theta_vals = np.linspace(theta_samples.min(), theta_samples.max(), 200)\n",
    "ci_pdf = norm.pdf(theta_vals, loc=dim_estimate, scale=se)\n",
    "ax.plot(theta_vals, ci_pdf, color=colors[1], label=\"Confidence Dist.\")\n",
    "ax.legend()  # Lines are too wide by default\n",
    "ax.set_ylim(0, 0.06)\n",
    "ax.set_xlabel(\"$\\\\theta$\")\n",
    "plt.subplots_adjust(left_adjust, bottom_adjust, right_adjust, top_adjust)\n",
    "save_my_fig(fig, \"case-study/constant-posterior\")"
   ]
  },
  {
   "cell_type": "code",
   "execution_count": 16,
   "id": "b4b72851-bb13-4b98-8688-ede0ed5d9b85",
   "metadata": {
    "tags": []
   },
   "outputs": [],
   "source": [
    "df_moderators = df.loc[:, covariate_columns]\n",
    "X_moderators = df_moderators.values.astype(float)\n",
    "\n",
    "def get_coefs(y, X):\n",
    "    n = y.size\n",
    "    y_c = y - y.mean()\n",
    "    X_c = X - X.mean(axis=0)\n",
    "    Xy_covs = (X_c.T @ y_c) / n\n",
    "    X_vars = (X_c**2).sum(axis=0) / n\n",
    "    coefs = Xy_covs / X_vars\n",
    "    return coefs\n",
    "\n",
    "def get_coef_diffs(y, a_logical):\n",
    "    idx1 = np.arange(n)[a_logical]\n",
    "    idx0 = np.arange(n)[~a_logical]\n",
    "    coefs1 = get_coefs(y[idx1], X_moderators[idx1])\n",
    "    coefs0 = get_coefs(y[idx0], X_moderators[idx0])\n",
    "    coef_diffs = coefs1 - coefs0\n",
    "    return coef_diffs\n",
    "\n",
    "coef_diffs = get_coef_diffs(y.values, a_logical)\n",
    "abs_coef_diffs = np.abs(coef_diffs)"
   ]
  },
  {
   "cell_type": "code",
   "execution_count": 17,
   "id": "e55af464-f219-4ece-a8a6-6339453dadcc",
   "metadata": {},
   "outputs": [
    {
     "name": "stderr",
     "output_type": "stream",
     "text": [
      "100%|████████████████████████████████████| 20000/20000 [00:33<00:00, 604.23it/s]\n"
     ]
    },
    {
     "name": "stdout",
     "output_type": "stream",
     "text": [
      "p-value for variance ratio: 0.0\n",
      "p-values for moderation: [0.7725  0.30725 0.0873  0.9949  0.2953  0.5139  0.57085 0.68265 0.46965\n",
      " 0.1185 ]\n"
     ]
    }
   ],
   "source": [
    "thetas = theta_samples\n",
    "n_samples = thetas.size\n",
    "y_mat = np.zeros((n_samples, n))\n",
    "y_mat[:] = y.values\n",
    "a_mat = np.zeros((n_samples, n))\n",
    "a_mat[:] = a.values\n",
    "y0_samples = y_mat - (a_mat.T * thetas).T\n",
    "y1_samples = (y0_samples.T + thetas).T\n",
    "var_ratio_samples = np.zeros(n_samples)\n",
    "abs_coef_diffs_samples = np.zeros((n_samples, X_moderators.shape[1]))\n",
    "for i in trange(n_samples):\n",
    "    a_sample = np.random.random(n) < 0.5\n",
    "    y0_sample = y0_samples[i]\n",
    "    y1_sample = y1_samples[i]\n",
    "    y_sample = a_sample*y1_sample + (~a_sample)*y0_sample\n",
    "    m0, m1, v0, v1 = get_moments(y_sample, a_sample)\n",
    "    var_ratio_samples[i] = jnp.maximum(v1, v0) / jnp.minimum(v1, v0)\n",
    "    coef_diffs_sample = get_coef_diffs(y_sample, a_sample)\n",
    "    abs_coef_diffs_samples[i] = np.abs(coef_diffs_sample)\n",
    "p_value_var_ratio = np.mean(var_ratio_samples > var_ratio)\n",
    "print(f\"p-value for variance ratio: {p_value_var_ratio}\")\n",
    "p_values_moderation = np.mean(abs_coef_diffs_samples > abs_coef_diffs, axis=0)\n",
    "print(f\"p-values for moderation: {p_values_moderation}\")"
   ]
  },
  {
   "cell_type": "code",
   "execution_count": 18,
   "id": "e1d76356-42fb-4cae-a063-dbda7d094f9e",
   "metadata": {},
   "outputs": [
    {
     "name": "stdout",
     "output_type": "stream",
     "text": [
      "./figures/case-study/variance-ratio\n"
     ]
    },
    {
     "name": "stderr",
     "output_type": "stream",
     "text": [
      "The PostScript backend does not support transparency; partially transparent artists will be rendered opaque.\n"
     ]
    },
    {
     "data": {
      "image/png": "[encoded data removed]",
      "text/plain": [
       "<Figure size 340x290 with 1 Axes>"
      ]
     },
     "metadata": {},
     "output_type": "display_data"
    }
   ],
   "source": [
    "fig, ax = get_fig_ax(figsize=figsize)\n",
    "sns.kdeplot(\n",
    "    x=var_ratio_samples,\n",
    "    ax=ax, bw_adjust=1.2, color=colors[0], label=\"Posterior Samples\")\n",
    "ax.axvline(var_ratio, color=colors[1], label=\"Observed\")\n",
    "ax.set_xlabel(\"Variance Ratio\")\n",
    "ax.set_ylim(0, 15)\n",
    "ax.legend()\n",
    "plt.subplots_adjust(left_adjust, bottom_adjust, right_adjust, top_adjust)\n",
    "save_my_fig(fig, \"case-study/variance-ratio\")"
   ]
  },
  {
   "cell_type": "code",
   "execution_count": 19,
   "id": "fb7c98b9-9361-4751-9d6a-1a197754603d",
   "metadata": {},
   "outputs": [
    {
     "name": "stdout",
     "output_type": "stream",
     "text": [
      "./figures/case-study/data-kde\n"
     ]
    },
    {
     "name": "stderr",
     "output_type": "stream",
     "text": [
      "The PostScript backend does not support transparency; partially transparent artists will be rendered opaque.\n"
     ]
    },
    {
     "data": {
      "image/png": "[encoded data removed]",
      "text/plain": [
       "<Figure size 340x290 with 1 Axes>"
      ]
     },
     "metadata": {},
     "output_type": "display_data"
    }
   ],
   "source": [
    "def make_kde_plot(kde_df, filepath, legend=False):\n",
    "    fig, ax = get_fig_ax(figsize=figsize)\n",
    "    sns.kdeplot(data=kde_df, x=\"Total meal energy\", hue=\"Availability\", ax=ax, bw_method=0.4, legend=legend, common_norm=False, common_grid=True)\n",
    "    if legend:\n",
    "        sns.move_legend(ax, \"upper left\")\n",
    "    ax.set_xlim(0, 1600)\n",
    "    ax.set_ylim(0, 0.003)\n",
    "    y_ticks = [0.000, 0.001, 0.002, 0.003]\n",
    "    ax.set_yticks(y_ticks)\n",
    "    plt.subplots_adjust(left_adjust, bottom_adjust, right_adjust, top_adjust)\n",
    "    save_my_fig(fig, filepath)\n",
    "    plt.show()\n",
    "\n",
    "df[\"Availability\"] = df[\"availability\"].replace({0: \"Low\", 1: \"High\"})\n",
    "make_kde_plot(df.sort_values(by=\"Availability\", ascending=False), \"case-study/data-kde\", legend=True)"
   ]
  },
  {
   "cell_type": "code",
   "execution_count": 20,
   "id": "9f19121f-f7d8-42d8-86fe-c9512c8fa930",
   "metadata": {},
   "outputs": [
    {
     "name": "stderr",
     "output_type": "stream",
     "text": [
      "The PostScript backend does not support transparency; partially transparent artists will be rendered opaque.\n"
     ]
    },
    {
     "name": "stdout",
     "output_type": "stream",
     "text": [
      "./figures/case-study/constant-kde\n"
     ]
    },
    {
     "data": {
      "image/png": "[encoded data removed]",
      "text/plain": [
       "<Figure size 340x290 with 1 Axes>"
      ]
     },
     "metadata": {},
     "output_type": "display_data"
    }
   ],
   "source": [
    "theta_pm = theta_samples.mean()\n",
    "y0_imputed_constant = y.values - a.values * theta_pm\n",
    "y1_imputed_constant = y0_imputed_constant + theta_pm\n",
    "df_imputed_constant = pd.DataFrame({\n",
    "    \"Total meal energy\": np.concatenate([y0_imputed_constant, y1_imputed_constant]),\n",
    "    \"Availability\": [\"Low\"]*n + [\"High\"]*n,\n",
    "})\n",
    "make_kde_plot(df_imputed_constant, \"case-study/constant-kde\", legend=True)"
   ]
  },
  {
   "cell_type": "code",
   "execution_count": 21,
   "id": "b96ab740-a26d-4e07-b401-6567b955067d",
   "metadata": {},
   "outputs": [
    {
     "name": "stderr",
     "output_type": "stream",
     "text": [
      "sample: 100%|█| 2000/2000 [00:13<00:00, 144.67it/s, 3 steps of size 1.09e+00. ac"
     ]
    },
    {
     "name": "stdout",
     "output_type": "stream",
     "text": [
      "\n",
      "                mean       std    median      2.5%     97.5%     n_eff     r_hat\n",
      "     theta    -70.05     10.38    -69.46    -93.18    -52.28    397.09      1.00\n",
      "\n",
      "Number of divergences: 0\n"
     ]
    },
    {
     "name": "stderr",
     "output_type": "stream",
     "text": [
      "\n"
     ]
    }
   ],
   "source": [
    "# Estimate variance via Monte Carlo: slow\n",
    "# The results are very similar to the asymptotic approximation\n",
    "# This approach could also be adapted to sample a within each iteration using HMCGibbs\n",
    "# See the models below for examples of how to do this\n",
    "constant_effect_mcmc = MCMC(constant_effect_kernel, num_warmup=1000, num_samples=1000)\n",
    "constant_effect_mcmc.run(rng_key, num_a_samples=1000)\n",
    "constant_effect_mcmc.print_summary(prob=0.95)"
   ]
  },
  {
   "cell_type": "markdown",
   "id": "c34c74b5-a09b-4542-bdb6-8a55243243fc",
   "metadata": {},
   "source": [
    "## Stochastic shift-scale model"
   ]
  },
  {
   "cell_type": "code",
   "execution_count": 22,
   "id": "7a609c4d-9c18-4392-91b9-d8f240f3d07e",
   "metadata": {},
   "outputs": [],
   "source": [
    "def jnp_kth_root(x, k):\n",
    "    signs = jnp.sign(x)\n",
    "    return signs * jnp.abs(x)**(1./k)\n",
    "\n",
    "def get_5_moments(b, a_logical):\n",
    "    idx1 = np.arange(n)[a_logical]\n",
    "    b1 = b[idx1]\n",
    "    m1 = jnp.mean(b1)\n",
    "    v1 = jnp.var(b1)\n",
    "    sd1 = jnp.sqrt(v1)\n",
    "    z1 = (b1 - m1) / sd1\n",
    "    s1 = jnp_kth_root(jnp.mean(z1**3), 3)\n",
    "    k1 = jnp_kth_root(jnp.mean(z1**4), 4)\n",
    "    f1 = jnp_kth_root(jnp.mean(z1**5), 5)\n",
    "    moments = jnp.array([m1, sd1, s1, k1, f1])\n",
    "    return moments\n",
    "\n",
    "def get_5_moment_samples(b, a_samples):\n",
    "    n1_samples = jnp.sum(a_samples, axis=1)\n",
    "    sum1_samples = jnp.sum(b*a_samples, axis=1)\n",
    "    m1 = sum1_samples / n1_samples\n",
    "    sumsq1_samples = jnp.sum((b**2)*a_samples, axis=1)\n",
    "    meansq1 = sumsq1_samples / n1_samples\n",
    "    v1 = meansq1 - m1**2\n",
    "    sd1 = jnp.sqrt(v1)\n",
    "    z1 = ((b.T - m1) / sd1).T\n",
    "    s1 = jnp_kth_root(jnp.sum((z1**3)*a_samples, axis=1) / n1_samples, 3)\n",
    "    k1 = jnp_kth_root(jnp.sum((z1**4)*a_samples, axis=1) / n1_samples, 4)\n",
    "    f1 = jnp_kth_root(jnp.sum((z1**5)*a_samples, axis=1) / n1_samples, 5)\n",
    "    moments = jnp.vstack([m1, sd1, s1, k1, f1])\n",
    "    return moments\n",
    "\n",
    "five_moments = get_5_moments(y.values, a_logical)"
   ]
  },
  {
   "cell_type": "code",
   "execution_count": 23,
   "id": "36a24c0e-1f92-4766-b66b-43ee2b7f039d",
   "metadata": {},
   "outputs": [
    {
     "name": "stderr",
     "output_type": "stream",
     "text": [
      "sample: 100%|█| 40000/40000 [1:29:09<00:00,  7.48it/s, 15 steps of size 2.96e-02"
     ]
    },
    {
     "name": "stdout",
     "output_type": "stream",
     "text": [
      "\n",
      "                mean       std    median      5.0%     95.0%     n_eff     r_hat\n",
      "     alpha    -23.88    341.15   -172.76   -412.67    580.39    598.42      1.00\n",
      "      beta      0.95      0.37      1.11      0.29      1.35    597.60      1.00\n",
      "     sigma    124.39     81.08    116.43      4.40    243.22    607.26      1.00\n",
      "\n"
     ]
    },
    {
     "name": "stderr",
     "output_type": "stream",
     "text": [
      "\n"
     ]
    }
   ],
   "source": [
    "jnp_a = jnp.asarray(a.values)\n",
    "jnp_y = jnp.asarray(y.values)\n",
    "\n",
    "def random_shift_scale_model(num_a_samples=1000):\n",
    "    # Prior\n",
    "    alpha = numpyro.sample(\"alpha\", dist.Normal(0., 1000.))\n",
    "    beta = numpyro.sample(\"beta\", dist.Gamma(1., 1.))\n",
    "    sigma = numpyro.sample(\"sigma\", dist.Gamma(1., 0.01))\n",
    "    with numpyro.plate(\"n_plate\", n):\n",
    "        with numpyro.plate(\"a_plate\", num_a_samples):\n",
    "            a_samples = numpyro.sample(\"a_samples\", dist.Bernoulli(0.5))\n",
    "            epsilon = numpyro.sample(\"epsilon\", dist.Normal(0., 1.))\n",
    "    y1_imputed = jnp_a*jnp_y + (1.-jnp_a)*(alpha + beta*jnp_y + sigma*epsilon)\n",
    "    numpyro.deterministic(\"y1_imputed\", y1_imputed[0])\n",
    "    numpyro.deterministic(\"a_sample\", a_samples[0])\n",
    "    s_observed = five_moments[:2]\n",
    "        \n",
    "    # Samples\n",
    "    five_moments_samples = get_5_moment_samples(y1_imputed, a_samples)\n",
    "    s_samples = five_moments_samples[:2]\n",
    "    likelihood_mean = s_samples.mean(axis=1)\n",
    "    likelihood_cov = jnp.cov(s_samples)\n",
    "    \n",
    "    # Model checking\n",
    "    props = (five_moments_samples.T <= five_moments).mean(axis=0)\n",
    "    ps = 2 * (0.5 - jnp.abs(props - 0.5))\n",
    "    numpyro.deterministic(\"ps\", ps)\n",
    "        \n",
    "    # Likelihood\n",
    "    d = s_observed - likelihood_mean\n",
    "    maha = d @ jnp.linalg.solve(likelihood_cov, d)\n",
    "    parametric_log_estimate = -0.5 * (maha + jnp.linalg.slogdet(likelihood_cov)[1])\n",
    "    numpyro.factor(\"s_density\", parametric_log_estimate)\n",
    "    \n",
    "def gibbs(rng_key, gibbs_sites, hmc_sites):\n",
    "    key_a, key_eps = random.split(rng_key)  # Code fails if you do not split keys\n",
    "    new_a_samples = dist.Bernoulli(0.5).sample(key_a, gibbs_sites[\"a_samples\"].shape)\n",
    "    new_epsilon = dist.Normal(0., 1.).sample(key_eps, gibbs_sites[\"epsilon\"].shape)\n",
    "    return {\"a_samples\": new_a_samples, \"epsilon\": new_epsilon}\n",
    "\n",
    "random_shift_scale_hmc_kernel = NUTS(random_shift_scale_model, dense_mass=[(\"alpha\", \"beta\", \"sigma\")], step_size=0.1, max_tree_depth=7)\n",
    "random_shift_scale_kernel = HMCGibbs(random_shift_scale_hmc_kernel, gibbs_fn=gibbs, gibbs_sites=[\"a_samples\", \"epsilon\"])\n",
    "random_shift_scale_mcmc = MCMC(random_shift_scale_kernel, num_warmup=20000, num_samples=20000, progress_bar=True)\n",
    "random_shift_scale_mcmc.run(random.PRNGKey(0), num_a_samples=1000, extra_fields=(\"~z.a_samples\", \"~z.epsilon\"))\n",
    "random_shift_scale_mcmc.print_summary()"
   ]
  },
  {
   "cell_type": "code",
   "execution_count": 24,
   "id": "5a9bb1bf-8de1-4978-ace7-b621d884d83c",
   "metadata": {},
   "outputs": [
    {
     "name": "stdout",
     "output_type": "stream",
     "text": [
      "-71.2806\n",
      "[-98.327948  -44.4741045]\n"
     ]
    }
   ],
   "source": [
    "shift_scale_samples = random_shift_scale_mcmc.get_samples()\n",
    "avg_effect_samples = (shift_scale_samples[\"y1_imputed\"][:, idx0] - y0.values).mean(axis=1)\n",
    "print(np.mean(avg_effect_samples))\n",
    "print(np.percentile(avg_effect_samples, [2.5, 97.5]))"
   ]
  },
  {
   "cell_type": "code",
   "execution_count": 25,
   "id": "c0c47bdd-48de-489b-9532-2bb0780a027b",
   "metadata": {},
   "outputs": [
    {
     "name": "stdout",
     "output_type": "stream",
     "text": [
      "./figures/case-study/shift-scale-p-values\n"
     ]
    },
    {
     "data": {
      "image/png": "[encoded data removed]",
      "text/plain": [
       "<Figure size 800x210 with 5 Axes>"
      ]
     },
     "metadata": {},
     "output_type": "display_data"
    }
   ],
   "source": [
    "def make_p_plots(ps, filename):\n",
    "    fig, axs = plt.subplots(1, 5, figsize=(8, 2.1))\n",
    "    for i in range(5):\n",
    "        ax_i = axs[i]\n",
    "        ax_i.hist(ps[:, i], bins=np.arange(0., 1.001, 0.05), density=True)\n",
    "        ax_i.set_xlim(-0.01, 1.01)\n",
    "        ax_i.set_ylim(0, 21)\n",
    "        ax_i.set_xticks(np.arange(0., 1.001, 0.5))\n",
    "        ax_i.set_title(f\"$m_{i+1}$\")\n",
    "        post_mean_pvalue = ps[:, i].mean()\n",
    "        if post_mean_pvalue > 0.01:\n",
    "            post_mean_pvalue_text = f\"{post_mean_pvalue:.2f}\"\n",
    "        else:\n",
    "            post_mean_pvalue_text = f\"{post_mean_pvalue:.1e}\"\n",
    "        ax_i.text(0.5, 17, \"Mean = \" + post_mean_pvalue_text, horizontalalignment=\"center\")\n",
    "        ax_i.set_xlabel(\"P-value\")\n",
    "        yticks = np.arange(0., 20.1, 5.)\n",
    "        if i:\n",
    "            ax_i.set_yticks(yticks, labels=[\"\"]*yticks.size)\n",
    "        else:\n",
    "            ax_i.set_yticks(np.arange(0., 20.1, 5.))\n",
    "            ax_i.set_ylabel(\"Density\")\n",
    "    plt.subplots_adjust(0.07, 0.24, 0.985, 0.9)\n",
    "    save_my_fig(fig, filename)\n",
    "\n",
    "make_p_plots(random_shift_scale_mcmc.get_samples()[\"ps\"], \"case-study/shift-scale-p-values\")"
   ]
  },
  {
   "cell_type": "code",
   "execution_count": 26,
   "id": "0575fb39-9c39-4267-963d-f8444d72afe7",
   "metadata": {},
   "outputs": [
    {
     "name": "stdout",
     "output_type": "stream",
     "text": [
      "./figures/case-study/shift-scale-y1\n"
     ]
    },
    {
     "name": "stderr",
     "output_type": "stream",
     "text": [
      "The PostScript backend does not support transparency; partially transparent artists will be rendered opaque.\n"
     ]
    },
    {
     "data": {
      "image/png": "[encoded data removed]",
      "text/plain": [
       "<Figure size 340x290 with 1 Axes>"
      ]
     },
     "metadata": {},
     "output_type": "display_data"
    }
   ],
   "source": [
    "def plot_y1_imputations(y1_imputed_single, filename, bw=1.):\n",
    "    fig, ax = get_fig_ax(figsize=figsize)\n",
    "    sns.kdeplot(y1, ax=ax, bw_method=bw, color=colors[1], label=\"High: Observed\")\n",
    "    sns.kdeplot(y1_imputed_single.flatten(), ax=ax, bw_method=bw, color=colors[2], label=\"High: Sampled\")\n",
    "    ax.set_xlim(0, 1800)\n",
    "    ax.set_ylim(0, 0.003)\n",
    "    y_ticks = [0.000, 0.001, 0.002, 0.003]\n",
    "    ax.set_yticks(y_ticks)\n",
    "    ax.legend(loc=\"upper left\")\n",
    "    plt.subplots_adjust(left_adjust, bottom_adjust, right_adjust, top_adjust)\n",
    "    save_my_fig(fig, filename)\n",
    "    plt.show()\n",
    "\n",
    "plot_y1_imputations(random_shift_scale_mcmc.get_samples()[\"y1_imputed\"][:, idx0], \"case-study/shift-scale-y1\", bw=0.4)"
   ]
  },
  {
   "cell_type": "markdown",
   "id": "33cc1676-dc50-4f53-bcf0-d1df7ebb6e9d",
   "metadata": {},
   "source": [
    "## Spline model"
   ]
  },
  {
   "cell_type": "code",
   "execution_count": 27,
   "id": "939d346f-d9e6-4f9f-81b0-d7cd1c317e33",
   "metadata": {},
   "outputs": [
    {
     "name": "stderr",
     "output_type": "stream",
     "text": [
      "sample: 100%|█| 40000/40000 [3:21:40<00:00,  3.31it/s, 127 steps of size 2.67e-0"
     ]
    },
    {
     "name": "stdout",
     "output_type": "stream",
     "text": [
      "\n",
      "                mean       std    median      5.0%     95.0%     n_eff     r_hat\n",
      "     beta0     -5.37      0.53     -5.15     -6.19     -4.90    595.55      1.00\n",
      "     beta1      0.26      0.23      0.27     -0.15      0.57    777.52      1.00\n",
      "     beta2     -0.24      0.14     -0.26     -0.44      0.02    925.92      1.00\n",
      "     beta3      0.00      0.07     -0.01     -0.11      0.11   2121.36      1.00\n",
      "     sigma    121.81     70.80    117.74     14.87    236.78    828.40      1.00\n",
      "     theta     -2.25      0.68     -2.30     -3.42     -1.01    619.67      1.01\n",
      "\n"
     ]
    },
    {
     "name": "stderr",
     "output_type": "stream",
     "text": [
      "\n"
     ]
    }
   ],
   "source": [
    "y_mean = jnp_y.mean()\n",
    "y_sd = jnp_y.std()\n",
    "calorie_vals = np.arange(y.max()*2 + 1) / 2.\n",
    "calorie_vals_std = (calorie_vals - y_mean) / y_sd\n",
    "calorie_vals_std_whole = calorie_vals_std[::2]\n",
    "calorie_vals_std2 = calorie_vals_std**2\n",
    "calorie_vals_std3 = calorie_vals_std**3\n",
    "\n",
    "def increasing_model(y1_mat):\n",
    "    # Prior\n",
    "    num_a_samples = y1_mat.shape[0]\n",
    "    theta = numpyro.sample(\"theta\", dist.Normal(-4., 2.))\n",
    "    beta0 = numpyro.sample(\"beta0\", dist.Normal(-5.5, 1.))\n",
    "    beta1 = numpyro.sample(\"beta1\", dist.Normal(0., 0.5))\n",
    "    beta2 = numpyro.sample(\"beta2\", dist.Normal(0., 0.2))\n",
    "    beta3 = numpyro.sample(\"beta3\", dist.Normal(0., 0.1))\n",
    "    sigma = numpyro.sample(\"sigma\", dist.HalfNormal(100.))\n",
    "    with numpyro.plate(\"n_plate\", n):\n",
    "        with numpyro.plate(\"a_plate\", num_a_samples):\n",
    "            a_samples = numpyro.sample(\"a_samples\", dist.Bernoulli(0.5))\n",
    "            epsilon = numpyro.sample(\"epsilon\", dist.Normal(0., 1.))\n",
    "    \n",
    "    # Causal effects\n",
    "    g = jnp.exp(\n",
    "        beta0 +\n",
    "        beta1 * calorie_vals_std +\n",
    "        beta2 * calorie_vals_std2 +\n",
    "        beta3 * calorie_vals_std3)\n",
    "    incremental_causal_effects = (g[:-2:2] + 4 * g[1:-1:2] + g[2::2]) / 6.  # Simpson's rule\n",
    "    causal_effects_raw = jnp.concatenate([jnp.array([0.]), np.cumsum(incremental_causal_effects)])\n",
    "    causal_effects = y_sd*(theta + causal_effects_raw) + y_mean\n",
    "    numpyro.deterministic(\"causal_effects\", causal_effects)\n",
    "    s_observed = five_moments  # all 5 moments\n",
    "    \n",
    "    # Sampled statistic values\n",
    "    y1_imputed = jnp_a*jnp_y + (1.-jnp_a)*(causal_effects[jnp_y] + sigma*epsilon)   \n",
    "    s_samples = get_5_moment_samples(y1_imputed, a_samples)\n",
    "    likelihood_mean = s_samples.mean(axis=1)\n",
    "    likelihood_cov = jnp.cov(s_samples)\n",
    "    \n",
    "    # Model checking\n",
    "    props = (s_samples.T <= s_observed).mean(axis=0)\n",
    "    ps = 2 * (0.5 - jnp.abs(props - 0.5))\n",
    "    numpyro.deterministic(\"ps\", ps)\n",
    "    numpyro.deterministic(\"y1_imputed\", y1_imputed[0])\n",
    "    numpyro.deterministic(\"a_sample\", a_samples[0])\n",
    "        \n",
    "    # Likelihood\n",
    "    d = s_observed - likelihood_mean\n",
    "    maha = d @ jnp.linalg.solve(likelihood_cov, d)\n",
    "    parametric_log_estimate = -0.5 * (maha + jnp.linalg.slogdet(likelihood_cov)[1])\n",
    "    numpyro.factor(\"s_density\", parametric_log_estimate)\n",
    "    \n",
    "\n",
    "init_params = {\n",
    "    \"theta\": calorie_vals_std.min(),\n",
    "    \"beta0\": -5.5,\n",
    "    \"beta1\": 0.,\n",
    "    \"beta2\": 0.,\n",
    "    \"beta3\": 0.,\n",
    "    \"sigma\": 100.\n",
    "}\n",
    "increasing_hmc_kernel = NUTS(increasing_model, dense_mass=[(\"theta\", \"beta0\", \"beta1\", \"beta2\", \"beta3\", \"sigma\")], init_strategy=init_to_value(values=init_params), step_size=0.01, max_tree_depth=7)\n",
    "increasing_kernel = HMCGibbs(increasing_hmc_kernel, gibbs_fn=gibbs, gibbs_sites=[\"a_samples\", \"epsilon\"])\n",
    "increasing_mcmc = MCMC(increasing_kernel, num_warmup=20000, num_samples=20000, progress_bar=True)\n",
    "y1_mat = np.zeros((1000, n1))\n",
    "y1_mat[:] = y1.values\n",
    "increasing_mcmc.run(random.PRNGKey(0), y1_mat=y1_mat, extra_fields=(\"~z.a_samples\", \"~z.epsilon\",))\n",
    "increasing_mcmc.print_summary() "
   ]
  },
  {
   "cell_type": "code",
   "execution_count": 28,
   "id": "9d9b8ce8-713a-472b-9ed8-8be9a5f8be70",
   "metadata": {},
   "outputs": [
    {
     "name": "stdout",
     "output_type": "stream",
     "text": [
      "./figures/case-study/increasing-p-values\n"
     ]
    },
    {
     "data": {
      "image/png": "[encoded data removed]",
      "text/plain": [
       "<Figure size 800x210 with 5 Axes>"
      ]
     },
     "metadata": {},
     "output_type": "display_data"
    }
   ],
   "source": [
    "make_p_plots(increasing_mcmc.get_samples()[\"ps\"], \"case-study/increasing-p-values\")"
   ]
  },
  {
   "cell_type": "code",
   "execution_count": 29,
   "id": "56545cc9-62c6-4dca-befd-f54ad60fce82",
   "metadata": {},
   "outputs": [
    {
     "name": "stderr",
     "output_type": "stream",
     "text": [
      "The PostScript backend does not support transparency; partially transparent artists will be rendered opaque.\n"
     ]
    },
    {
     "name": "stdout",
     "output_type": "stream",
     "text": [
      "./figures/case-study/increasing-y1\n"
     ]
    },
    {
     "data": {
      "image/png": "[encoded data removed]",
      "text/plain": [
       "<Figure size 340x290 with 1 Axes>"
      ]
     },
     "metadata": {},
     "output_type": "display_data"
    }
   ],
   "source": [
    "plot_y1_imputations(increasing_mcmc.get_samples()[\"y1_imputed\"][:, idx0], \"case-study/increasing-y1\", bw=0.4)"
   ]
  },
  {
   "cell_type": "code",
   "execution_count": 30,
   "id": "4c000a3f-962e-4a4c-88f1-dfe8d38f3c1f",
   "metadata": {},
   "outputs": [
    {
     "name": "stdout",
     "output_type": "stream",
     "text": [
      "./figures/case-study/calorie-mean-plot\n"
     ]
    },
    {
     "name": "stderr",
     "output_type": "stream",
     "text": [
      "The PostScript backend does not support transparency; partially transparent artists will be rendered opaque.\n"
     ]
    },
    {
     "data": {
      "image/png": "[encoded data removed]",
      "text/plain": [
       "<Figure size 400x300 with 2 Axes>"
      ]
     },
     "metadata": {},
     "output_type": "display_data"
    }
   ],
   "source": [
    "calorie_vals_whole = calorie_vals[::2]\n",
    "causal_effect_samples = increasing_mcmc.get_samples()[\"causal_effects\"] - calorie_vals_whole\n",
    "causal_effect_pm = causal_effect_samples.mean(axis=0)\n",
    "causal_effect_lower = np.percentile(causal_effect_samples, 2.5, axis=0)\n",
    "causal_effect_upper = np.percentile(causal_effect_samples, 97.5, axis=0)\n",
    "fig, ax = plt.subplots(1, 1, figsize=(4, 3))\n",
    "ax.plot(\n",
    "    calorie_vals_whole,\n",
    "    np.zeros_like(calorie_vals_whole),\n",
    "    color=\"gray\",\n",
    "    lw=1,\n",
    "    linestyle=\":\"\n",
    ")\n",
    "ax.fill_between(\n",
    "    calorie_vals_whole,\n",
    "    causal_effect_lower,\n",
    "    causal_effect_upper,\n",
    "    alpha=0.2\n",
    ")\n",
    "first_idx = 0\n",
    "ax.plot(calorie_vals[::2][(first_idx+4):-4], causal_effect_pm[(first_idx+4):-4])\n",
    "ax.set_xlabel(\"$y_{0i}$\")\n",
    "ax.set_ylabel(\"E$(y_{1i} | y_{0i}) - y_{0i}$\")\n",
    "ax_twin = ax.twinx()\n",
    "sns.kdeplot(y0, ax=ax_twin, color=colors[1])\n",
    "ax_twin.set_xlim(y0.min(), y0.max())\n",
    "# ax_twin.set_xlim(calorie_vals_whole.min(), calorie_vals_whole.max())\n",
    "ax_twin.set_ylim(0, 0.004)\n",
    "ax_twin.set_yticks([0., 0.001, 0.002, 0.003, 0.004])\n",
    "blue_line = Line2D([0], [0], label=\"E$(y_{1i} | y_{0i}) - y_{0i}$\", color=colors[0])\n",
    "orange_line = Line2D([0], [0], label=\"$y_{0i}$ Density\", color=colors[1])\n",
    "ax.legend(loc=\"upper right\", handles=[blue_line, orange_line])\n",
    "plt.subplots_adjust(0.2, 0.18, 0.81, 0.97)\n",
    "save_my_fig(fig, \"case-study/calorie-mean-plot\")"
   ]
  },
  {
   "cell_type": "code",
   "execution_count": 31,
   "id": "fa34e072-8b6c-4706-8d52-2ae30c8ab035",
   "metadata": {},
   "outputs": [
    {
     "name": "stderr",
     "output_type": "stream",
     "text": [
      "100%|███████████████████████████████████████| 893/893 [00:00<00:00, 2708.71it/s]\n"
     ]
    },
    {
     "name": "stdout",
     "output_type": "stream",
     "text": [
      "./figures/case-study/calorie-dist-plot\n"
     ]
    },
    {
     "name": "stderr",
     "output_type": "stream",
     "text": [
      "The PostScript backend does not support transparency; partially transparent artists will be rendered opaque.\n"
     ]
    },
    {
     "data": {
      "image/png": "[encoded data removed]",
      "text/plain": [
       "<Figure size 400x300 with 2 Axes>"
      ]
     },
     "metadata": {},
     "output_type": "display_data"
    }
   ],
   "source": [
    "y1_imputed_increasing_pm = np.zeros(n0)\n",
    "y1_imputed_increasing_lower = np.zeros(n0)\n",
    "y1_imputed_increasing_upper = np.zeros(n0)\n",
    "y1_imputed_single = increasing_mcmc.get_samples()[\"y1_imputed\"][:, idx0]\n",
    "for i in trange(n0):\n",
    "    y1_imputed_single_i = y1_imputed_single[:, i]\n",
    "    y1_imputed_increasing_pm[i] = y1_imputed_single_i.mean()\n",
    "    y1_imputed_increasing_lower[i] = np.percentile(y1_imputed_single_i, 2.5)\n",
    "    y1_imputed_increasing_upper[i] = np.percentile(y1_imputed_single_i, 97.5)\n",
    "y0_arg_sort = np.argsort(y0).tolist()\n",
    "y0_sorted = y0.values[y0_arg_sort]\n",
    "y1_imputed_increasing_pm = y1_imputed_increasing_pm[y0_arg_sort]\n",
    "y1_imputed_increasing_lower = y1_imputed_increasing_lower[y0_arg_sort]\n",
    "y1_imputed_increasing_upper = y1_imputed_increasing_upper[y0_arg_sort]\n",
    "def smooth_y0(x):\n",
    "    X_smoothing = dmatrix(\"bs(x, df=12, degree=3)\", {\"x\": y0_sorted})\n",
    "    mod = sm.OLS(np.asarray(x), np.asarray(X_smoothing)).fit()\n",
    "    return mod.fittedvalues\n",
    "\n",
    "fig, ax = get_fig_ax(figsize=(4,3))\n",
    "ax.plot(y0_sorted, y0_sorted, color=\"gray\", lw=1, linestyle=\":\")\n",
    "pi_fill_between = ax.fill_between(y0_sorted, smooth_y0(y1_imputed_increasing_lower), smooth_y0(y1_imputed_increasing_upper), alpha=0.2, label=\"$y_{1i}$ 95\\\\% PI\", color=colors[0])\n",
    "ax.plot(y0_sorted, smooth_y0(y1_imputed_increasing_pm))\n",
    "ax.set_xlabel(\"$y_{0i}$\")\n",
    "ax.set_ylabel(\"$y_{1i}$\")\n",
    "ax_twin = ax.twinx()\n",
    "sns.kdeplot(y0, ax=ax_twin, color=colors[1])\n",
    "ax_twin.set_xlim(y0.min(), y0.max())\n",
    "ax_twin.set_ylim(0, 0.004)\n",
    "ax_twin.set_yticks([0., 0.001, 0.002, 0.003, 0.004])\n",
    "orange_line = Line2D([0], [0], label=\"$y_{0i}$ Density\", color=colors[1])\n",
    "ax.legend(handles=[pi_fill_between, orange_line])\n",
    "plt.subplots_adjust(0.2, 0.18, 0.81, 0.97)\n",
    "save_my_fig(fig, \"case-study/calorie-dist-plot\")"
   ]
  },
  {
   "cell_type": "code",
   "execution_count": 32,
   "id": "2a59b234-fb5e-4249-80ca-f7cb4ef2d2cc",
   "metadata": {},
   "outputs": [
    {
     "name": "stdout",
     "output_type": "stream",
     "text": [
      "[ 493. 1399.]\n",
      "860\n",
      "893\n",
      "0.9630459126539753\n"
     ]
    }
   ],
   "source": [
    "neg_effect_range = np.percentile(calorie_vals_whole[causal_effect_pm < 0], [0., 100.])\n",
    "print(neg_effect_range)\n",
    "\n",
    "num_in_neg_range = np.sum((neg_effect_range[0] <= y0) & (y0 <= neg_effect_range[1]))\n",
    "print(num_in_neg_range)\n",
    "print(y0.size)\n",
    "print(num_in_neg_range / y0.size)"
   ]
  },
  {
   "cell_type": "code",
   "execution_count": 33,
   "id": "9662e668-8ef1-4676-9562-3637fe21fb3e",
   "metadata": {},
   "outputs": [
    {
     "name": "stdout",
     "output_type": "stream",
     "text": [
      "[ 841. 1047.]\n",
      "469\n",
      "893\n",
      "0.5251959686450168\n"
     ]
    }
   ],
   "source": [
    "neg_sig_effect_range = np.percentile(calorie_vals_whole[causal_effect_upper < 0], [0., 100.])\n",
    "print(neg_sig_effect_range)\n",
    "\n",
    "num_in_neg_sig_range = np.sum((neg_sig_effect_range[0] <= y0) & (y0 <= neg_sig_effect_range[1]))\n",
    "print(num_in_neg_sig_range)\n",
    "print(y0.size)\n",
    "print(num_in_neg_sig_range / y0.size)"
   ]
  },
  {
   "cell_type": "code",
   "execution_count": 34,
   "id": "bc458265-e225-4b07-bae3-6a4137f6877b",
   "metadata": {},
   "outputs": [
    {
     "name": "stdout",
     "output_type": "stream",
     "text": [
      "[  0. 285.]\n",
      "10\n",
      "10\n",
      "893\n",
      "0.011198208286674132\n"
     ]
    }
   ],
   "source": [
    "pos_sig_effect_range = calorie_vals_whole[causal_effect_lower >= 0][[0, -1]]\n",
    "print(pos_sig_effect_range)\n",
    "num_in_pos_sig_range = np.sum((pos_sig_effect_range[0] <= y0) & (y0 <= pos_sig_effect_range[1]))\n",
    "num_300_below = np.sum(y0 <= 300)\n",
    "print(num_in_pos_sig_range)\n",
    "print(num_300_below)\n",
    "print(y0.size)\n",
    "print(num_in_pos_sig_range / y0.size)"
   ]
  },
  {
   "cell_type": "code",
   "execution_count": 35,
   "id": "16d4eda6-a4ca-4427-a907-4b4baaaa8fee",
   "metadata": {},
   "outputs": [
    {
     "name": "stderr",
     "output_type": "stream",
     "text": [
      "sample: 100%|█| 40000/40000 [00:06<00:00, 6167.18it/s, 7 steps of size 7.44e-01."
     ]
    },
    {
     "name": "stdout",
     "output_type": "stream",
     "text": [
      "\n",
      "                mean       std    median      5.0%     95.0%     n_eff     r_hat\n",
      "       mu0    929.96      6.55    929.89    919.24    940.74  25686.42      1.00\n",
      "       mu1    858.86      8.55    858.89    844.88    872.96  26718.21      1.00\n",
      "       rho     -0.00      0.58     -0.01     -0.91      0.89  26165.21      1.00\n",
      "    sigma0    197.71      4.74    197.63    189.71    205.27  25798.37      1.00\n",
      "    sigma1    249.75      6.05    249.62    239.40    259.30  24816.72      1.00\n",
      "\n",
      "Number of divergences: 0\n"
     ]
    },
    {
     "name": "stderr",
     "output_type": "stream",
     "text": [
      "\n"
     ]
    }
   ],
   "source": [
    "def gaussian_model():\n",
    "    # Prior\n",
    "    mu0 = numpyro.sample(\"mu0\", dist.Normal(1000., 400.))\n",
    "    mu1 = numpyro.sample(\"mu1\", dist.Normal(1000., 400.))\n",
    "    sigma0 = numpyro.sample(\"sigma0\", dist.HalfNormal(300.))\n",
    "    sigma1 = numpyro.sample(\"sigma1\", dist.HalfNormal(300.))\n",
    "    rho = numpyro.sample(\"rho\", dist.Uniform(-1., 1.))\n",
    "    numpyro.sample(\"y0\", dist.Normal(mu0, sigma0), obs=y0.values)\n",
    "    numpyro.sample(\"y1\", dist.Normal(mu1, sigma1), obs=y1.values)\n",
    "\n",
    "gaussian_hmc_kernel = NUTS(gaussian_model)\n",
    "gaussian_mcmc = MCMC(gaussian_hmc_kernel, num_warmup=20000, num_samples=20000, progress_bar=True)\n",
    "gaussian_mcmc.run(random.PRNGKey(0))\n",
    "gaussian_mcmc.print_summary() "
   ]
  },
  {
   "cell_type": "code",
   "execution_count": 36,
   "id": "efaaa865-f7f5-4b6f-b066-0f5f38b3c300",
   "metadata": {},
   "outputs": [
    {
     "name": "stderr",
     "output_type": "stream",
     "text": [
      "The PostScript backend does not support transparency; partially transparent artists will be rendered opaque.\n"
     ]
    },
    {
     "name": "stdout",
     "output_type": "stream",
     "text": [
      "./figures/case-study/gaussian-kde\n"
     ]
    },
    {
     "data": {
      "image/png": "[encoded data removed]",
      "text/plain": [
       "<Figure size 340x290 with 1 Axes>"
      ]
     },
     "metadata": {},
     "output_type": "display_data"
    }
   ],
   "source": [
    "gaussian_samples = gaussian_mcmc.get_samples()\n",
    "n_samples = gaussian_samples[\"mu0\"].size\n",
    "y0_imputed_gaussian = gaussian_samples[\"mu0\"] + gaussian_samples[\"sigma0\"] * np.random.normal(size=n_samples)\n",
    "y1_imputed_gaussian = gaussian_samples[\"mu1\"] + gaussian_samples[\"sigma1\"] * np.random.normal(size=n_samples)\n",
    "df_imputed_constant = pd.DataFrame({\n",
    "    \"Total meal energy\": np.concatenate([y0_imputed_gaussian, y1_imputed_gaussian]),\n",
    "    \"Availability\": [\"Low\"]*n_samples + [\"High\"]*n_samples,\n",
    "})\n",
    "make_kde_plot(df_imputed_constant, \"case-study/gaussian-kde\", legend=True)"
   ]
  }
 ],
 "metadata": {
  "kernelspec": {
   "display_name": "Python 3 (ipykernel)",
   "language": "python",
   "name": "python3"
  },
  "language_info": {
   "codemirror_mode": {
    "name": "ipython",
    "version": 3
   },
   "file_extension": ".py",
   "mimetype": "text/x-python",
   "name": "python",
   "nbconvert_exporter": "python",
   "pygments_lexer": "ipython3",
   "version": "3.13.7"
  }
 },
 "nbformat": 4,
 "nbformat_minor": 5
}
